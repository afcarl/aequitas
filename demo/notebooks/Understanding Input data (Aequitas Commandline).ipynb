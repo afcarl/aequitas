{
 "cells": [
  {
   "cell_type": "markdown",
   "metadata": {},
   "source": [
    "# Understanding Input\n",
    "\n",
    "What does the data include? What can the data include?"
   ]
  },
  {
   "cell_type": "markdown",
   "metadata": {},
   "source": [
    "Input data must have columns:\n",
    "- `score`\n",
    "- `label_value`\n",
    "- at least one group. e.g. `race`, `sex` and `age_cat`.\n",
    "\n",
    "\n",
    "All columns in the input data are assumed to be groups with the exception of the following reserved columns.\n",
    "\n",
    "Reserved column name:\n",
    "- `model_id`\n",
    "____\n",
    "\n",
    "### `score`\n",
    "\n",
    "By default, aequitas_audit assumes the `score` column is a binary decision (0 or 1). Alternatively, the `score` column can contain the raw output of a machine learning algorithm applied to the data. In this case, the user sets a [threshold]() to determine the binary decision.\n",
    "\n",
    "### `label_value`\n",
    "\n",
    "This is the ground truth value of a binary decision. The data must be 0 or 1.\n",
    "\n",
    "### groups e.g. `race`, `sex`, `age_cat`\n",
    "\n",
    "Group columns can be categorical or continuous. If categorical, aequitas will produce crosstabs with bias metrics for each group_level. If continuous,  ...\n",
    "\n",
    "### `model_id`\n",
    "\n",
    "`model_id` is an identifier tied to the output of a specific model. With a `model_id` column you can test the bias of multiple models at once.\n",
    "\n"
   ]
  },
  {
   "cell_type": "markdown",
   "metadata": {},
   "source": [
    "# Command-line inputs ..."
   ]
  },
  {
   "cell_type": "markdown",
   "metadata": {},
   "source": [
    "# Configurations \n",
    "\n",
    "Configurations can be set in .yml file. See example [config.yml]()\n",
    "\n",
    "### Define reference groups\n",
    "```--ref-group  <type>```\n",
    "\n",
    "Fairness is always determined in relation to a reference group. By default, aequitas uses the majority group level for a given group as the reference group.\n",
    "\n",
    "- `majority`\n",
    "Define fairness in relation to the majority in a group. \n",
    "\n",
    "- `min_metric`\n",
    "Define fairness in relation to the subgroup with the lowest value on a given metric.\n",
    "\n",
    "- `predefined`\n",
    "Define fairness in relation to groups of your choice. \n",
    "\n",
    "The predefined reference groups are set in the configuration file.\n",
    "```{yaml}\n",
    "reference_groups:\n",
    "  \"gender\": \"male\"\n",
    "  \"age_cat\": \"35-50\"\n",
    "```\n",
    "\n",
    "### Score threshholds \n",
    "\n",
    "If the input `score` column is not binary, you can test the impact of alternative cutoffs on fairness metrics.\n",
    "\n",
    "Thresholds are set in the configuration file.\n",
    "```{bash}\n",
    "thresholds:\n",
    "   rank_abs: [300]\n",
    "   rank_pct: [1.0, 5.0, 10.0 ]\n",
    "```\n",
    "With `rank_abs` classify the observations with the top n as 1 and the remainder as 0.\n",
    "With `rank_pct` classify the top n percent as 1 and the rest as 0.\n",
    "\n",
    "\n",
    "### Choosing Metrics\n",
    "*development in progress*\n",
    "\n",
    "### Fairness threshold\n",
    "*development in progress*\n",
    "\n",
    "### Controlling data flow\n",
    "How much information here ... \n",
    "\n",
    "\n",
    "```\n",
    "project_description:\n",
    "    title: \"Insert project title\"\n",
    "    goal: \"Insert project goal.\"\n",
    "```"
   ]
  }
 ],
 "metadata": {
  "kernelspec": {
   "display_name": "Python 3",
   "language": "python",
   "name": "python3"
  },
  "language_info": {
   "codemirror_mode": {
    "name": "ipython",
    "version": 3
   },
   "file_extension": ".py",
   "mimetype": "text/x-python",
   "name": "python",
   "nbconvert_exporter": "python",
   "pygments_lexer": "ipython3",
   "version": "3.6.4"
  }
 },
 "nbformat": 4,
 "nbformat_minor": 2
}
