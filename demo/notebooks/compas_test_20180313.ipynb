{
 "cells": [
  {
   "cell_type": "markdown",
   "metadata": {},
   "source": [
    "## COMPAS Analysis using Aequitas"
   ]
  },
  {
   "cell_type": "markdown",
   "metadata": {},
   "source": [
    "In 2016, ProPublica reported on racial inequality in automated criminal risk assessment algorithms. The [report](https://www.propublica.org/article/machine-bias-risk-assessments-in-criminal-sentencing) is based off of [this analysis](https://github.com/propublica/compas-analysis). Using a clean version of the COMPAS dataset, found in the ProPublica repo, we demostrate the use of the Aequitas bias reporting tool. \n",
    "\n",
    "\n",
    "Northpointe's COMPAS (Correctional Offender Management Profiling for Alternative Sanctions) is one of the widest used risk assessment tools, algorithms which are used in the criminal justice system to guide decisions such as how to set bail. The ProPublica dataset represents two years of COMPAS predicitons from Broward County, FL."
   ]
  },
  {
   "cell_type": "markdown",
   "metadata": {},
   "source": [
    "### Exploratory Analysis"
   ]
  },
  {
   "cell_type": "code",
   "execution_count": 1,
   "metadata": {},
   "outputs": [],
   "source": [
    "import os\n",
    "import sys\n",
    "module_path = os.path.abspath(os.path.join('../..'))\n",
    "if module_path not in sys.path:\n",
    "    sys.path.append(module_path)\n",
    "    \n",
    "from src.aequitas.group import Group\n",
    "from src.aequitas.bias import Bias\n",
    "from src.aequitas.fairness import Fairness\n",
    "import pandas as pd\n",
    "from pandas.api.types import CategoricalDtype\n",
    "import seaborn as sns"
   ]
  },
  {
   "cell_type": "code",
   "execution_count": 2,
   "metadata": {},
   "outputs": [
    {
     "data": {
      "text/html": [
       "<div>\n",
       "<style scoped>\n",
       "    .dataframe tbody tr th:only-of-type {\n",
       "        vertical-align: middle;\n",
       "    }\n",
       "\n",
       "    .dataframe tbody tr th {\n",
       "        vertical-align: top;\n",
       "    }\n",
       "\n",
       "    .dataframe thead th {\n",
       "        text-align: right;\n",
       "    }\n",
       "</style>\n",
       "<table border=\"1\" class=\"dataframe\">\n",
       "  <thead>\n",
       "    <tr style=\"text-align: right;\">\n",
       "      <th></th>\n",
       "      <th>id</th>\n",
       "      <th>name</th>\n",
       "      <th>first</th>\n",
       "      <th>last</th>\n",
       "      <th>compas_screening_date</th>\n",
       "      <th>sex</th>\n",
       "      <th>dob</th>\n",
       "      <th>age</th>\n",
       "      <th>age_cat</th>\n",
       "      <th>race</th>\n",
       "      <th>...</th>\n",
       "      <th>v_decile_score</th>\n",
       "      <th>v_score_text</th>\n",
       "      <th>v_screening_date</th>\n",
       "      <th>in_custody</th>\n",
       "      <th>out_custody</th>\n",
       "      <th>priors_count.1</th>\n",
       "      <th>start</th>\n",
       "      <th>end</th>\n",
       "      <th>event</th>\n",
       "      <th>two_year_recid</th>\n",
       "    </tr>\n",
       "  </thead>\n",
       "  <tbody>\n",
       "    <tr>\n",
       "      <th>0</th>\n",
       "      <td>1</td>\n",
       "      <td>miguel hernandez</td>\n",
       "      <td>miguel</td>\n",
       "      <td>hernandez</td>\n",
       "      <td>2013-08-14</td>\n",
       "      <td>Male</td>\n",
       "      <td>1947-04-18</td>\n",
       "      <td>69</td>\n",
       "      <td>Greater than 45</td>\n",
       "      <td>Other</td>\n",
       "      <td>...</td>\n",
       "      <td>1</td>\n",
       "      <td>Low</td>\n",
       "      <td>2013-08-14</td>\n",
       "      <td>2014-07-07</td>\n",
       "      <td>2014-07-14</td>\n",
       "      <td>0</td>\n",
       "      <td>0</td>\n",
       "      <td>327</td>\n",
       "      <td>0</td>\n",
       "      <td>0</td>\n",
       "    </tr>\n",
       "    <tr>\n",
       "      <th>1</th>\n",
       "      <td>3</td>\n",
       "      <td>kevon dixon</td>\n",
       "      <td>kevon</td>\n",
       "      <td>dixon</td>\n",
       "      <td>2013-01-27</td>\n",
       "      <td>Male</td>\n",
       "      <td>1982-01-22</td>\n",
       "      <td>34</td>\n",
       "      <td>25 - 45</td>\n",
       "      <td>African-American</td>\n",
       "      <td>...</td>\n",
       "      <td>1</td>\n",
       "      <td>Low</td>\n",
       "      <td>2013-01-27</td>\n",
       "      <td>2013-01-26</td>\n",
       "      <td>2013-02-05</td>\n",
       "      <td>0</td>\n",
       "      <td>9</td>\n",
       "      <td>159</td>\n",
       "      <td>1</td>\n",
       "      <td>1</td>\n",
       "    </tr>\n",
       "    <tr>\n",
       "      <th>2</th>\n",
       "      <td>4</td>\n",
       "      <td>ed philo</td>\n",
       "      <td>ed</td>\n",
       "      <td>philo</td>\n",
       "      <td>2013-04-14</td>\n",
       "      <td>Male</td>\n",
       "      <td>1991-05-14</td>\n",
       "      <td>24</td>\n",
       "      <td>Less than 25</td>\n",
       "      <td>African-American</td>\n",
       "      <td>...</td>\n",
       "      <td>3</td>\n",
       "      <td>Low</td>\n",
       "      <td>2013-04-14</td>\n",
       "      <td>2013-06-16</td>\n",
       "      <td>2013-06-16</td>\n",
       "      <td>4</td>\n",
       "      <td>0</td>\n",
       "      <td>63</td>\n",
       "      <td>0</td>\n",
       "      <td>1</td>\n",
       "    </tr>\n",
       "    <tr>\n",
       "      <th>3</th>\n",
       "      <td>5</td>\n",
       "      <td>marcu brown</td>\n",
       "      <td>marcu</td>\n",
       "      <td>brown</td>\n",
       "      <td>2013-01-13</td>\n",
       "      <td>Male</td>\n",
       "      <td>1993-01-21</td>\n",
       "      <td>23</td>\n",
       "      <td>Less than 25</td>\n",
       "      <td>African-American</td>\n",
       "      <td>...</td>\n",
       "      <td>6</td>\n",
       "      <td>Medium</td>\n",
       "      <td>2013-01-13</td>\n",
       "      <td>NaN</td>\n",
       "      <td>NaN</td>\n",
       "      <td>1</td>\n",
       "      <td>0</td>\n",
       "      <td>1174</td>\n",
       "      <td>0</td>\n",
       "      <td>0</td>\n",
       "    </tr>\n",
       "    <tr>\n",
       "      <th>4</th>\n",
       "      <td>6</td>\n",
       "      <td>bouthy pierrelouis</td>\n",
       "      <td>bouthy</td>\n",
       "      <td>pierrelouis</td>\n",
       "      <td>2013-03-26</td>\n",
       "      <td>Male</td>\n",
       "      <td>1973-01-22</td>\n",
       "      <td>43</td>\n",
       "      <td>25 - 45</td>\n",
       "      <td>Other</td>\n",
       "      <td>...</td>\n",
       "      <td>1</td>\n",
       "      <td>Low</td>\n",
       "      <td>2013-03-26</td>\n",
       "      <td>NaN</td>\n",
       "      <td>NaN</td>\n",
       "      <td>2</td>\n",
       "      <td>0</td>\n",
       "      <td>1102</td>\n",
       "      <td>0</td>\n",
       "      <td>0</td>\n",
       "    </tr>\n",
       "  </tbody>\n",
       "</table>\n",
       "<p>5 rows × 53 columns</p>\n",
       "</div>"
      ],
      "text/plain": [
       "   id                name   first         last compas_screening_date   sex  \\\n",
       "0   1    miguel hernandez  miguel    hernandez            2013-08-14  Male   \n",
       "1   3         kevon dixon   kevon        dixon            2013-01-27  Male   \n",
       "2   4            ed philo      ed        philo            2013-04-14  Male   \n",
       "3   5         marcu brown   marcu        brown            2013-01-13  Male   \n",
       "4   6  bouthy pierrelouis  bouthy  pierrelouis            2013-03-26  Male   \n",
       "\n",
       "          dob  age          age_cat              race      ...        \\\n",
       "0  1947-04-18   69  Greater than 45             Other      ...         \n",
       "1  1982-01-22   34          25 - 45  African-American      ...         \n",
       "2  1991-05-14   24     Less than 25  African-American      ...         \n",
       "3  1993-01-21   23     Less than 25  African-American      ...         \n",
       "4  1973-01-22   43          25 - 45             Other      ...         \n",
       "\n",
       "   v_decile_score  v_score_text  v_screening_date  in_custody  out_custody  \\\n",
       "0               1           Low        2013-08-14  2014-07-07   2014-07-14   \n",
       "1               1           Low        2013-01-27  2013-01-26   2013-02-05   \n",
       "2               3           Low        2013-04-14  2013-06-16   2013-06-16   \n",
       "3               6        Medium        2013-01-13         NaN          NaN   \n",
       "4               1           Low        2013-03-26         NaN          NaN   \n",
       "\n",
       "   priors_count.1 start   end event two_year_recid  \n",
       "0               0     0   327     0              0  \n",
       "1               0     9   159     1              1  \n",
       "2               4     0    63     0              1  \n",
       "3               1     0  1174     0              0  \n",
       "4               2     0  1102     0              0  \n",
       "\n",
       "[5 rows x 53 columns]"
      ]
     },
     "execution_count": 2,
     "metadata": {},
     "output_type": "execute_result"
    }
   ],
   "source": [
    "# df = pd.read_csv('../data/cox-parsed.csv')\n",
    "df_g = pd.read_csv('../data/compas-scores-two-years.csv')\n",
    "df_g.head()"
   ]
  },
  {
   "cell_type": "markdown",
   "metadata": {},
   "source": [
    "COMPAS provides three scores meant to measure likelihood of recidivism, likelihood of violent recidivism and likelihood of failing to appear at a court date.\n",
    "\n",
    "The field `decile_score` is the predicted risk decile for recidivism, with 1 being very low and 10 high. `score_text` represents that category of predicted risk, which groups the predicted decile into `Low`, `Medium`, and `High`. Let's take a look at these distributions."
   ]
  },
  {
   "cell_type": "code",
   "execution_count": 3,
   "metadata": {},
   "outputs": [
    {
     "data": {
      "text/plain": [
       "<matplotlib.axes._subplots.AxesSubplot at 0x117386828>"
      ]
     },
     "execution_count": 3,
     "metadata": {},
     "output_type": "execute_result"
    },
    {
     "data": {
      "image/png": "[encoded data removed]",
      "text/plain": [
       "<matplotlib.figure.Figure at 0x1164b7f28>"
      ]
     },
     "metadata": {},
     "output_type": "display_data"
    }
   ],
   "source": [
    "sns.countplot(x='decile_score', data=df_g,palette=\"PuBuGn_d\")"
   ]
  },
  {
   "cell_type": "code",
   "execution_count": 4,
   "metadata": {},
   "outputs": [
    {
     "data": {
      "text/plain": [
       "<matplotlib.axes._subplots.AxesSubplot at 0x114e33710>"
      ]
     },
     "execution_count": 4,
     "metadata": {},
     "output_type": "execute_result"
    },
    {
     "data": {
      "image/png": "[encoded data removed]",
      "text/plain": [
       "<matplotlib.figure.Figure at 0x1173865c0>"
      ]
     },
     "metadata": {},
     "output_type": "display_data"
    }
   ],
   "source": [
    "cat_type = CategoricalDtype(categories=[\"Low\", \"Medium\", \"High\"], ordered=True)\n",
    "df_g.score_text = df_g.score_text.astype(cat_type)\n",
    "sns.countplot(x='score_text', data=df_g)"
   ]
  },
  {
   "cell_type": "markdown",
   "metadata": {},
   "source": [
    "We see that most people are predcited into the `Low` category (and thus the low deciles), with much fewer in the `Medium`/`High` range. We are interested in how `race` affects these distributions. First, we take a look at the overall distribution of race in the sample."
   ]
  },
  {
   "cell_type": "code",
   "execution_count": 5,
   "metadata": {},
   "outputs": [
    {
     "data": {
      "image/png": "[encoded data removed]",
      "text/plain": [
       "<matplotlib.figure.Figure at 0x114dc9320>"
      ]
     },
     "metadata": {},
     "output_type": "display_data"
    }
   ],
   "source": [
    "g = sns.countplot(x=\"race\", data=df_g).set_xticklabels(labels=df_g.race.unique(),rotation=90)"
   ]
  },
  {
   "cell_type": "markdown",
   "metadata": {},
   "source": [
    "We see that `African-American` is the largest category, followed by `Caucasian`. For ease of visualization, we focus on these 2 races."
   ]
  },
  {
   "cell_type": "code",
   "execution_count": 6,
   "metadata": {},
   "outputs": [
    {
     "data": {
      "image/png": "[encoded data removed]",
      "text/plain": [
       "<matplotlib.figure.Figure at 0x114ffecc0>"
      ]
     },
     "metadata": {},
     "output_type": "display_data"
    }
   ],
   "source": [
    "g = sns.countplot(x=\"race\", hue=\"score_text\", data=df_g[df_g.race.isin(['African-American', 'Caucasian'])])"
   ]
  },
  {
   "cell_type": "code",
   "execution_count": 7,
   "metadata": {},
   "outputs": [
    {
     "data": {
      "image/png": "[encoded data removed]",
      "text/plain": [
       "<matplotlib.figure.Figure at 0x115107dd8>"
      ]
     },
     "metadata": {},
     "output_type": "display_data"
    }
   ],
   "source": [
    "g = sns.countplot(x=\"race\", hue=\"decile_score\", data=df_g[df_g.race.isin(['African-American', 'Caucasian'])], palette=\"PuBuGn_d\")"
   ]
  },
  {
   "cell_type": "markdown",
   "metadata": {},
   "source": [
    "We see a huge difference in these distributions, with white people significantly more likely to be predicted into the first decile (indicating a very low risk) than black people. This dataset includes information about whether or not the subject recidivated, and so we can directly test the accuracy of the predictions. First, we visualize the recidivsm rates across race. \n",
    "\n",
    "Following ProPublica, we defined recidivism as a new arrest within two years. (If a person recidivates, `two_year_recid` = 1). They \"based this decision on Northpointe’s practitioners guide, which says that its recidivism score is meant to predict 'a new misdemeanor or felony offense within two years of the COMPAS administration date.'\""
   ]
  },
  {
   "cell_type": "code",
   "execution_count": 8,
   "metadata": {},
   "outputs": [
    {
     "data": {
      "image/png": "[encoded data removed]",
      "text/plain": [
       "<matplotlib.figure.Figure at 0x11513e8d0>"
      ]
     },
     "metadata": {},
     "output_type": "display_data"
    }
   ],
   "source": [
    "g = sns.countplot(x=\"race\", hue=\"two_year_recid\", data=df_g[df_g.race.isin(['African-American', 'Caucasian'])])"
   ]
  },
  {
   "cell_type": "markdown",
   "metadata": {},
   "source": [
    "### Aequitas example"
   ]
  },
  {
   "cell_type": "markdown",
   "metadata": {},
   "source": [
    "The above graph shows the base rates for recidivism are higher for black defendants compared to white defendants (.51 vs .39). The graphs above that show white defendants are more often predicted to be low risk than high risk, while black defendants are more-or-less evenly distributed across the decile scores.\n",
    "\n",
    "Practitioners face the challenge of determining whether or not such patterns reflect bias or not. The fact that we have multiple ways to measure bias adds complexity to the decisionmaking process. With Aequitas, we provide a tool that automates the reporting of various fairnes metrics to aid in this process.\n",
    "\n",
    "Applying Aequitas is a three step process represented by three python classes: \n",
    "\n",
    "`Group()`: Define groups \n",
    "\n",
    "`Bias()`: Calculate disparities\n",
    "\n",
    "`Fairness()`: Assert fairness\n",
    "\n",
    "\n",
    "\n",
    "\n"
   ]
  },
  {
   "cell_type": "markdown",
   "metadata": {},
   "source": [
    "#### Group()\n",
    "Now, using the Aequitas bias detection tool, we calculate precise bias and disparity metrics for this dataset. \n",
    "First, we modify the dataframe to be compatible with the tool. \n",
    "\n",
    "Aequitas expects a dataframe expects predefined columns `entity_id`, `score`, and `label_value` and treats all other columns (besides `model_id` and `as_of_date`) as group attributes against which to test for disparities. In this cases we include `race`, `sex` and `age_cat`. \n"
   ]
  },
  {
   "cell_type": "code",
   "execution_count": 2,
   "metadata": {},
   "outputs": [],
   "source": [
    "df = pd.read_csv('../data/compas-scores-two-years.csv')\n",
    "df = df[['id', 'decile_score', 'score_text', 'two_year_recid', 'race', 'sex', 'age_cat']]\n",
    "df = df.sort_values('decile_score', ascending=False)\n",
    "# df['model_id'] = 1\n",
    "df['score'] = df.decile_score/10\n",
    "df['rank_abs'] = range(1, len(df)+1)\n",
    "# rename for tool\n",
    "df = df.rename(columns={'id':'entity_id', \n",
    "                        'two_year_recid':'label_value'})\n",
    "\n",
    "rank_cutoff = min(df[df.score_text==\"Low\"].rank_abs)-1"
   ]
  },
  {
   "cell_type": "code",
   "execution_count": 10,
   "metadata": {},
   "outputs": [
    {
     "data": {
      "text/html": [
       "<div>\n",
       "<style scoped>\n",
       "    .dataframe tbody tr th:only-of-type {\n",
       "        vertical-align: middle;\n",
       "    }\n",
       "\n",
       "    .dataframe tbody tr th {\n",
       "        vertical-align: top;\n",
       "    }\n",
       "\n",
       "    .dataframe thead th {\n",
       "        text-align: right;\n",
       "    }\n",
       "</style>\n",
       "<table border=\"1\" class=\"dataframe\">\n",
       "  <thead>\n",
       "    <tr style=\"text-align: right;\">\n",
       "      <th></th>\n",
       "      <th>count</th>\n",
       "      <th>mean</th>\n",
       "      <th>std</th>\n",
       "      <th>min</th>\n",
       "      <th>25%</th>\n",
       "      <th>50%</th>\n",
       "      <th>75%</th>\n",
       "      <th>max</th>\n",
       "    </tr>\n",
       "    <tr>\n",
       "      <th>score_text</th>\n",
       "      <th></th>\n",
       "      <th></th>\n",
       "      <th></th>\n",
       "      <th></th>\n",
       "      <th></th>\n",
       "      <th></th>\n",
       "      <th></th>\n",
       "      <th></th>\n",
       "    </tr>\n",
       "  </thead>\n",
       "  <tbody>\n",
       "    <tr>\n",
       "      <th>High</th>\n",
       "      <td>1403.0</td>\n",
       "      <td>8.908054</td>\n",
       "      <td>0.793671</td>\n",
       "      <td>8.0</td>\n",
       "      <td>8.0</td>\n",
       "      <td>9.0</td>\n",
       "      <td>10.0</td>\n",
       "      <td>10.0</td>\n",
       "    </tr>\n",
       "    <tr>\n",
       "      <th>Low</th>\n",
       "      <td>3897.0</td>\n",
       "      <td>2.216833</td>\n",
       "      <td>1.141860</td>\n",
       "      <td>1.0</td>\n",
       "      <td>1.0</td>\n",
       "      <td>2.0</td>\n",
       "      <td>3.0</td>\n",
       "      <td>4.0</td>\n",
       "    </tr>\n",
       "    <tr>\n",
       "      <th>Medium</th>\n",
       "      <td>1914.0</td>\n",
       "      <td>5.953501</td>\n",
       "      <td>0.814422</td>\n",
       "      <td>5.0</td>\n",
       "      <td>5.0</td>\n",
       "      <td>6.0</td>\n",
       "      <td>7.0</td>\n",
       "      <td>7.0</td>\n",
       "    </tr>\n",
       "  </tbody>\n",
       "</table>\n",
       "</div>"
      ],
      "text/plain": [
       "             count      mean       std  min  25%  50%   75%   max\n",
       "score_text                                                       \n",
       "High        1403.0  8.908054  0.793671  8.0  8.0  9.0  10.0  10.0\n",
       "Low         3897.0  2.216833  1.141860  1.0  1.0  2.0   3.0   4.0\n",
       "Medium      1914.0  5.953501  0.814422  5.0  5.0  6.0   7.0   7.0"
      ]
     },
     "execution_count": 10,
     "metadata": {},
     "output_type": "execute_result"
    }
   ],
   "source": [
    "df.groupby('score_text').decile_score.describe()"
   ]
  },
  {
   "cell_type": "markdown",
   "metadata": {},
   "source": [
    "We now use the `get_crosstabs` function to find the bias metrics across groups of interest, which here we are considering to be race, gender, and age."
   ]
  },
  {
   "cell_type": "code",
   "execution_count": 3,
   "metadata": {},
   "outputs": [],
   "source": [
    "df = df[[x for x in df.columns if x not in ['score_text', 'decile_score']]]\n",
    "df.to_csv('compas_for_aequitas')"
   ]
  },
  {
   "cell_type": "code",
   "execution_count": 4,
   "metadata": {},
   "outputs": [
    {
     "name": "stdout",
     "output_type": "stream",
     "text": [
      "Feature Columns (Groups): ['race' 'sex' 'age_cat']\n",
      "COUNTS::: race\n",
      "African-American    3696\n",
      "Asian                 32\n",
      "Caucasian           2454\n",
      "Hispanic             637\n",
      "Native American       18\n",
      "Other                377\n",
      "Name: entity_id, dtype: int64\n",
      "COUNTS::: sex\n",
      "Female    1395\n",
      "Male      5819\n",
      "Name: entity_id, dtype: int64\n",
      "COUNTS::: age_cat\n",
      "25 - 45            4109\n",
      "Greater than 45    1576\n",
      "Less than 25       1529\n",
      "Name: entity_id, dtype: int64\n"
     ]
    }
   ],
   "source": [
    "df = df[[x for x in df.columns if x not in ['score_text', 'decile_score']]]\n",
    "g = Group()\n",
    "ct, p = g.get_crosstabs(df, {'rank_abs':[rank_cutoff]}, model_id=1)"
   ]
  },
  {
   "cell_type": "code",
   "execution_count": null,
   "metadata": {},
   "outputs": [],
   "source": []
  },
  {
   "cell_type": "code",
   "execution_count": 13,
   "metadata": {},
   "outputs": [
    {
     "data": {
      "text/html": [
       "<div>\n",
       "<style scoped>\n",
       "    .dataframe tbody tr th:only-of-type {\n",
       "        vertical-align: middle;\n",
       "    }\n",
       "\n",
       "    .dataframe tbody tr th {\n",
       "        vertical-align: top;\n",
       "    }\n",
       "\n",
       "    .dataframe thead th {\n",
       "        text-align: right;\n",
       "    }\n",
       "</style>\n",
       "<table border=\"1\" class=\"dataframe\">\n",
       "  <thead>\n",
       "    <tr style=\"text-align: right;\">\n",
       "      <th></th>\n",
       "      <th>group_variable</th>\n",
       "      <th>group_value</th>\n",
       "      <th>FPR</th>\n",
       "      <th>FNR</th>\n",
       "      <th>TPR</th>\n",
       "      <th>TNR</th>\n",
       "    </tr>\n",
       "  </thead>\n",
       "  <tbody>\n",
       "    <tr>\n",
       "      <th>0</th>\n",
       "      <td>race</td>\n",
       "      <td>African-American</td>\n",
       "      <td>0.448468</td>\n",
       "      <td>0.279853</td>\n",
       "      <td>0.720147</td>\n",
       "      <td>0.551532</td>\n",
       "    </tr>\n",
       "    <tr>\n",
       "      <th>1</th>\n",
       "      <td>race</td>\n",
       "      <td>Asian</td>\n",
       "      <td>0.086957</td>\n",
       "      <td>0.333333</td>\n",
       "      <td>0.666667</td>\n",
       "      <td>0.913043</td>\n",
       "    </tr>\n",
       "    <tr>\n",
       "      <th>2</th>\n",
       "      <td>race</td>\n",
       "      <td>Caucasian</td>\n",
       "      <td>0.234543</td>\n",
       "      <td>0.477226</td>\n",
       "      <td>0.522774</td>\n",
       "      <td>0.765457</td>\n",
       "    </tr>\n",
       "    <tr>\n",
       "      <th>3</th>\n",
       "      <td>race</td>\n",
       "      <td>Hispanic</td>\n",
       "      <td>0.214815</td>\n",
       "      <td>0.556034</td>\n",
       "      <td>0.443966</td>\n",
       "      <td>0.785185</td>\n",
       "    </tr>\n",
       "    <tr>\n",
       "      <th>4</th>\n",
       "      <td>race</td>\n",
       "      <td>Native American</td>\n",
       "      <td>0.375000</td>\n",
       "      <td>0.100000</td>\n",
       "      <td>0.900000</td>\n",
       "      <td>0.625000</td>\n",
       "    </tr>\n",
       "    <tr>\n",
       "      <th>5</th>\n",
       "      <td>race</td>\n",
       "      <td>Other</td>\n",
       "      <td>0.147541</td>\n",
       "      <td>0.676692</td>\n",
       "      <td>0.323308</td>\n",
       "      <td>0.852459</td>\n",
       "    </tr>\n",
       "    <tr>\n",
       "      <th>6</th>\n",
       "      <td>sex</td>\n",
       "      <td>Female</td>\n",
       "      <td>0.321070</td>\n",
       "      <td>0.391566</td>\n",
       "      <td>0.608434</td>\n",
       "      <td>0.678930</td>\n",
       "    </tr>\n",
       "    <tr>\n",
       "      <th>7</th>\n",
       "      <td>sex</td>\n",
       "      <td>Male</td>\n",
       "      <td>0.324201</td>\n",
       "      <td>0.370868</td>\n",
       "      <td>0.629132</td>\n",
       "      <td>0.675799</td>\n",
       "    </tr>\n",
       "    <tr>\n",
       "      <th>8</th>\n",
       "      <td>age_cat</td>\n",
       "      <td>25 - 45</td>\n",
       "      <td>0.333784</td>\n",
       "      <td>0.373743</td>\n",
       "      <td>0.626257</td>\n",
       "      <td>0.666216</td>\n",
       "    </tr>\n",
       "    <tr>\n",
       "      <th>9</th>\n",
       "      <td>age_cat</td>\n",
       "      <td>Greater than 45</td>\n",
       "      <td>0.167904</td>\n",
       "      <td>0.572289</td>\n",
       "      <td>0.427711</td>\n",
       "      <td>0.832096</td>\n",
       "    </tr>\n",
       "    <tr>\n",
       "      <th>10</th>\n",
       "      <td>age_cat</td>\n",
       "      <td>Less than 25</td>\n",
       "      <td>0.541353</td>\n",
       "      <td>0.260417</td>\n",
       "      <td>0.739583</td>\n",
       "      <td>0.458647</td>\n",
       "    </tr>\n",
       "  </tbody>\n",
       "</table>\n",
       "</div>"
      ],
      "text/plain": [
       "   group_variable       group_value       FPR       FNR       TPR       TNR\n",
       "0            race  African-American  0.448468  0.279853  0.720147  0.551532\n",
       "1            race             Asian  0.086957  0.333333  0.666667  0.913043\n",
       "2            race         Caucasian  0.234543  0.477226  0.522774  0.765457\n",
       "3            race          Hispanic  0.214815  0.556034  0.443966  0.785185\n",
       "4            race   Native American  0.375000  0.100000  0.900000  0.625000\n",
       "5            race             Other  0.147541  0.676692  0.323308  0.852459\n",
       "6             sex            Female  0.321070  0.391566  0.608434  0.678930\n",
       "7             sex              Male  0.324201  0.370868  0.629132  0.675799\n",
       "8         age_cat           25 - 45  0.333784  0.373743  0.626257  0.666216\n",
       "9         age_cat   Greater than 45  0.167904  0.572289  0.427711  0.832096\n",
       "10        age_cat      Less than 25  0.541353  0.260417  0.739583  0.458647"
      ]
     },
     "execution_count": 13,
     "metadata": {},
     "output_type": "execute_result"
    }
   ],
   "source": [
    "ct[['group_variable', 'group_value', 'FPR', 'FNR', 'TPR', 'TNR']]"
   ]
  },
  {
   "cell_type": "markdown",
   "metadata": {
    "collapsed": true
   },
   "source": [
    "We see that African-Americans have a false positive rate of 45%, while Caucasians have a false positive rate of only 23%. This means that black people are far more likely to be falsely labeled as high-risk than white people. Additionally, we see that those in the \"Less than 25\" category have a 54% fpr, which is very high."
   ]
  },
  {
   "cell_type": "markdown",
   "metadata": {},
   "source": [
    "#### Bias()\n",
    "We calculate disparities as a ratio of a metric for a group of interest compared to a base group. For example, the False Negative Rate Disparity for black defendants vis-a-vis whites is:\n",
    "$$Disparity_{FNR} =  \\frac{FNR_{black}}{FNR_{white}}$$ \n",
    "\n",
    "Below, we use `get_disparity_predifined_groups` which allows us to choose base groups that clarify the output for the practitioner. Aequitas `Bias()` class includes two additional get disparity functions, which automate base group selection.\n"
   ]
  },
  {
   "cell_type": "code",
   "execution_count": 5,
   "metadata": {},
   "outputs": [
    {
     "name": "stdout",
     "output_type": "stream",
     "text": [
      "get_disparity_predefined_group()\n"
     ]
    }
   ],
   "source": [
    "b = Bias()\n",
    "bdf = b.get_disparity_predefined_groups(ct, {'race':'Caucasian', 'sex':'Male', 'age_cat':'25 - 45'})"
   ]
  },
  {
   "cell_type": "code",
   "execution_count": 20,
   "metadata": {},
   "outputs": [
    {
     "data": {
      "text/html": [
       "<div>\n",
       "<style scoped>\n",
       "    .dataframe tbody tr th:only-of-type {\n",
       "        vertical-align: middle;\n",
       "    }\n",
       "\n",
       "    .dataframe tbody tr th {\n",
       "        vertical-align: top;\n",
       "    }\n",
       "\n",
       "    .dataframe thead th {\n",
       "        text-align: right;\n",
       "    }\n",
       "</style>\n",
       "<table border=\"1\" class=\"dataframe\">\n",
       "  <thead>\n",
       "    <tr style=\"text-align: right;\">\n",
       "      <th></th>\n",
       "      <th>group_variable</th>\n",
       "      <th>group_value</th>\n",
       "      <th>PPR_disparity</th>\n",
       "      <th>PPrev_disparity</th>\n",
       "      <th>FDR_disparity</th>\n",
       "      <th>FOmR_disparity</th>\n",
       "      <th>FPR_disparity</th>\n",
       "      <th>FNR_disparity</th>\n",
       "    </tr>\n",
       "  </thead>\n",
       "  <tbody>\n",
       "    <tr>\n",
       "      <th>0</th>\n",
       "      <td>race</td>\n",
       "      <td>African-American</td>\n",
       "      <td>2.545667</td>\n",
       "      <td>1.690224</td>\n",
       "      <td>0.906085</td>\n",
       "      <td>1.213154</td>\n",
       "      <td>1.912093</td>\n",
       "      <td>0.586416</td>\n",
       "    </tr>\n",
       "    <tr>\n",
       "      <th>1</th>\n",
       "      <td>race</td>\n",
       "      <td>Asian</td>\n",
       "      <td>0.009368</td>\n",
       "      <td>0.718384</td>\n",
       "      <td>0.611748</td>\n",
       "      <td>0.433839</td>\n",
       "      <td>0.370749</td>\n",
       "      <td>0.698482</td>\n",
       "    </tr>\n",
       "    <tr>\n",
       "      <th>2</th>\n",
       "      <td>race</td>\n",
       "      <td>Caucasian</td>\n",
       "      <td>1.000000</td>\n",
       "      <td>1.000000</td>\n",
       "      <td>1.000000</td>\n",
       "      <td>1.000000</td>\n",
       "      <td>1.000000</td>\n",
       "      <td>1.000000</td>\n",
       "    </tr>\n",
       "    <tr>\n",
       "      <th>3</th>\n",
       "      <td>race</td>\n",
       "      <td>Hispanic</td>\n",
       "      <td>0.222482</td>\n",
       "      <td>0.857099</td>\n",
       "      <td>1.120464</td>\n",
       "      <td>1.001616</td>\n",
       "      <td>0.915887</td>\n",
       "      <td>1.165140</td>\n",
       "    </tr>\n",
       "    <tr>\n",
       "      <th>4</th>\n",
       "      <td>race</td>\n",
       "      <td>Native American</td>\n",
       "      <td>0.014052</td>\n",
       "      <td>1.915691</td>\n",
       "      <td>0.611748</td>\n",
       "      <td>0.578453</td>\n",
       "      <td>1.598854</td>\n",
       "      <td>0.209544</td>\n",
       "    </tr>\n",
       "    <tr>\n",
       "      <th>5</th>\n",
       "      <td>race</td>\n",
       "      <td>Other</td>\n",
       "      <td>0.092506</td>\n",
       "      <td>0.602147</td>\n",
       "      <td>1.115085</td>\n",
       "      <td>1.048203</td>\n",
       "      <td>0.629057</td>\n",
       "      <td>1.417970</td>\n",
       "    </tr>\n",
       "    <tr>\n",
       "      <th>6</th>\n",
       "      <td>sex</td>\n",
       "      <td>Female</td>\n",
       "      <td>0.216801</td>\n",
       "      <td>0.904348</td>\n",
       "      <td>1.336425</td>\n",
       "      <td>0.734738</td>\n",
       "      <td>0.990343</td>\n",
       "      <td>1.055810</td>\n",
       "    </tr>\n",
       "    <tr>\n",
       "      <th>7</th>\n",
       "      <td>sex</td>\n",
       "      <td>Male</td>\n",
       "      <td>1.000000</td>\n",
       "      <td>1.000000</td>\n",
       "      <td>1.000000</td>\n",
       "      <td>1.000000</td>\n",
       "      <td>1.000000</td>\n",
       "      <td>1.000000</td>\n",
       "    </tr>\n",
       "    <tr>\n",
       "      <th>8</th>\n",
       "      <td>age_cat</td>\n",
       "      <td>25 - 45</td>\n",
       "      <td>1.000000</td>\n",
       "      <td>1.000000</td>\n",
       "      <td>1.000000</td>\n",
       "      <td>1.000000</td>\n",
       "      <td>1.000000</td>\n",
       "      <td>1.000000</td>\n",
       "    </tr>\n",
       "    <tr>\n",
       "      <th>9</th>\n",
       "      <td>age_cat</td>\n",
       "      <td>Greater than 45</td>\n",
       "      <td>0.204782</td>\n",
       "      <td>0.533914</td>\n",
       "      <td>1.192804</td>\n",
       "      <td>0.746232</td>\n",
       "      <td>0.503031</td>\n",
       "      <td>1.531238</td>\n",
       "    </tr>\n",
       "    <tr>\n",
       "      <th>10</th>\n",
       "      <td>age_cat</td>\n",
       "      <td>Less than 25</td>\n",
       "      <td>0.519231</td>\n",
       "      <td>1.395369</td>\n",
       "      <td>0.935673</td>\n",
       "      <td>1.313873</td>\n",
       "      <td>1.621868</td>\n",
       "      <td>0.696781</td>\n",
       "    </tr>\n",
       "  </tbody>\n",
       "</table>\n",
       "</div>"
      ],
      "text/plain": [
       "   group_variable       group_value  PPR_disparity  PPrev_disparity  \\\n",
       "0            race  African-American       2.545667         1.690224   \n",
       "1            race             Asian       0.009368         0.718384   \n",
       "2            race         Caucasian       1.000000         1.000000   \n",
       "3            race          Hispanic       0.222482         0.857099   \n",
       "4            race   Native American       0.014052         1.915691   \n",
       "5            race             Other       0.092506         0.602147   \n",
       "6             sex            Female       0.216801         0.904348   \n",
       "7             sex              Male       1.000000         1.000000   \n",
       "8         age_cat           25 - 45       1.000000         1.000000   \n",
       "9         age_cat   Greater than 45       0.204782         0.533914   \n",
       "10        age_cat      Less than 25       0.519231         1.395369   \n",
       "\n",
       "    FDR_disparity  FOmR_disparity  FPR_disparity  FNR_disparity  \n",
       "0        0.906085        1.213154       1.912093       0.586416  \n",
       "1        0.611748        0.433839       0.370749       0.698482  \n",
       "2        1.000000        1.000000       1.000000       1.000000  \n",
       "3        1.120464        1.001616       0.915887       1.165140  \n",
       "4        0.611748        0.578453       1.598854       0.209544  \n",
       "5        1.115085        1.048203       0.629057       1.417970  \n",
       "6        1.336425        0.734738       0.990343       1.055810  \n",
       "7        1.000000        1.000000       1.000000       1.000000  \n",
       "8        1.000000        1.000000       1.000000       1.000000  \n",
       "9        1.192804        0.746232       0.503031       1.531238  \n",
       "10       0.935673        1.313873       1.621868       0.696781  "
      ]
     },
     "execution_count": 20,
     "metadata": {},
     "output_type": "execute_result"
    }
   ],
   "source": [
    "bdf[['group_variable', 'group_value', 'PPR_disparity', 'PPrev_disparity', 'FDR_disparity', 'FOmR_disparity',\n",
    "       'FPR_disparity', 'FNR_disparity']]"
   ]
  },
  {
   "cell_type": "markdown",
   "metadata": {},
   "source": [
    "The differences in False Positive Rates are clarified using the ratio."
   ]
  },
  {
   "cell_type": "markdown",
   "metadata": {},
   "source": [
    "#### Fairness()\n",
    "Finally, the `Fairness()` class provides three functions that provide a high level summary. Using FNR disparity as an example and the default cutoffs, we have:\n",
    "\n",
    "$$ 0.8 < Disparity_{FNR} =  \\frac{FNR_{group}}{FNR_{base group}} < 1.25 $$ \n",
    "\n",
    "\n"
   ]
  },
  {
   "cell_type": "code",
   "execution_count": 6,
   "metadata": {},
   "outputs": [
    {
     "name": "stdout",
     "output_type": "stream",
     "text": [
      "get_group_value_fairness\n"
     ]
    }
   ],
   "source": [
    "f = Fairness()\n",
    "fdf = f.get_group_value_fairness(bdf)"
   ]
  },
  {
   "cell_type": "code",
   "execution_count": 23,
   "metadata": {},
   "outputs": [
    {
     "data": {
      "text/plain": [
       "Index(['TPR', 'group_value', 'group_variable', 'k', 'model_id', 'parameter',\n",
       "       'TNR', 'FOmR', 'FDR', 'FPR', 'FNR', 'NPV', 'Precision', 'PP', 'PN',\n",
       "       'PPR', 'PPrev', 'FP', 'FN', 'TN', 'TP', 'group_label_neg',\n",
       "       'group_label_pos', 'group_size', 'total_entities', 'Prev',\n",
       "       'PPR_disparity', 'PPrev_disparity', 'FDR_disparity', 'FOmR_disparity',\n",
       "       'FPR_disparity', 'FNR_disparity', 'PPR_ref_group_value',\n",
       "       'PPrev_ref_group_value', 'FDR_ref_group_value', 'FOmR_ref_group_value',\n",
       "       'FPR_ref_group_value', 'FNR_ref_group_value', 'Statistical Parity',\n",
       "       'Impact Parity', 'FDR Parity', 'FPR Parity', 'FOmR Parity',\n",
       "       'FNR Parity', 'TypeI Parity', 'TypeII Parity', 'Unsupervised Fairness',\n",
       "       'Supervised Fairness'],\n",
       "      dtype='object')"
      ]
     },
     "execution_count": 23,
     "metadata": {},
     "output_type": "execute_result"
    }
   ],
   "source": [
    "fdf.to_csv(\"compas_fai\")"
   ]
  },
  {
   "cell_type": "code",
   "execution_count": 24,
   "metadata": {},
   "outputs": [
    {
     "data": {
      "text/html": [
       "<div>\n",
       "<style scoped>\n",
       "    .dataframe tbody tr th:only-of-type {\n",
       "        vertical-align: middle;\n",
       "    }\n",
       "\n",
       "    .dataframe tbody tr th {\n",
       "        vertical-align: top;\n",
       "    }\n",
       "\n",
       "    .dataframe thead th {\n",
       "        text-align: right;\n",
       "    }\n",
       "</style>\n",
       "<table border=\"1\" class=\"dataframe\">\n",
       "  <thead>\n",
       "    <tr style=\"text-align: right;\">\n",
       "      <th></th>\n",
       "      <th>group_value</th>\n",
       "      <th>group_variable</th>\n",
       "      <th>Statistical Parity</th>\n",
       "      <th>Impact Parity</th>\n",
       "      <th>FDR Parity</th>\n",
       "      <th>FPR Parity</th>\n",
       "      <th>FOmR Parity</th>\n",
       "      <th>FNR Parity</th>\n",
       "      <th>TypeI Parity</th>\n",
       "      <th>TypeII Parity</th>\n",
       "      <th>Unsupervised Fairness</th>\n",
       "      <th>Supervised Fairness</th>\n",
       "    </tr>\n",
       "  </thead>\n",
       "  <tbody>\n",
       "    <tr>\n",
       "      <th>0</th>\n",
       "      <td>African-American</td>\n",
       "      <td>race</td>\n",
       "      <td>False</td>\n",
       "      <td>False</td>\n",
       "      <td>True</td>\n",
       "      <td>False</td>\n",
       "      <td>True</td>\n",
       "      <td>False</td>\n",
       "      <td>False</td>\n",
       "      <td>False</td>\n",
       "      <td>False</td>\n",
       "      <td>False</td>\n",
       "    </tr>\n",
       "    <tr>\n",
       "      <th>1</th>\n",
       "      <td>Asian</td>\n",
       "      <td>race</td>\n",
       "      <td>False</td>\n",
       "      <td>False</td>\n",
       "      <td>False</td>\n",
       "      <td>False</td>\n",
       "      <td>False</td>\n",
       "      <td>False</td>\n",
       "      <td>False</td>\n",
       "      <td>False</td>\n",
       "      <td>False</td>\n",
       "      <td>False</td>\n",
       "    </tr>\n",
       "    <tr>\n",
       "      <th>2</th>\n",
       "      <td>Caucasian</td>\n",
       "      <td>race</td>\n",
       "      <td>True</td>\n",
       "      <td>True</td>\n",
       "      <td>True</td>\n",
       "      <td>True</td>\n",
       "      <td>True</td>\n",
       "      <td>True</td>\n",
       "      <td>True</td>\n",
       "      <td>True</td>\n",
       "      <td>True</td>\n",
       "      <td>True</td>\n",
       "    </tr>\n",
       "    <tr>\n",
       "      <th>3</th>\n",
       "      <td>Hispanic</td>\n",
       "      <td>race</td>\n",
       "      <td>False</td>\n",
       "      <td>True</td>\n",
       "      <td>True</td>\n",
       "      <td>True</td>\n",
       "      <td>True</td>\n",
       "      <td>True</td>\n",
       "      <td>True</td>\n",
       "      <td>True</td>\n",
       "      <td>False</td>\n",
       "      <td>True</td>\n",
       "    </tr>\n",
       "    <tr>\n",
       "      <th>4</th>\n",
       "      <td>Native American</td>\n",
       "      <td>race</td>\n",
       "      <td>False</td>\n",
       "      <td>False</td>\n",
       "      <td>False</td>\n",
       "      <td>False</td>\n",
       "      <td>False</td>\n",
       "      <td>False</td>\n",
       "      <td>False</td>\n",
       "      <td>False</td>\n",
       "      <td>False</td>\n",
       "      <td>False</td>\n",
       "    </tr>\n",
       "    <tr>\n",
       "      <th>5</th>\n",
       "      <td>Other</td>\n",
       "      <td>race</td>\n",
       "      <td>False</td>\n",
       "      <td>False</td>\n",
       "      <td>True</td>\n",
       "      <td>False</td>\n",
       "      <td>True</td>\n",
       "      <td>False</td>\n",
       "      <td>False</td>\n",
       "      <td>False</td>\n",
       "      <td>False</td>\n",
       "      <td>False</td>\n",
       "    </tr>\n",
       "    <tr>\n",
       "      <th>6</th>\n",
       "      <td>Female</td>\n",
       "      <td>sex</td>\n",
       "      <td>False</td>\n",
       "      <td>True</td>\n",
       "      <td>False</td>\n",
       "      <td>True</td>\n",
       "      <td>False</td>\n",
       "      <td>True</td>\n",
       "      <td>False</td>\n",
       "      <td>False</td>\n",
       "      <td>False</td>\n",
       "      <td>False</td>\n",
       "    </tr>\n",
       "    <tr>\n",
       "      <th>7</th>\n",
       "      <td>Male</td>\n",
       "      <td>sex</td>\n",
       "      <td>True</td>\n",
       "      <td>True</td>\n",
       "      <td>True</td>\n",
       "      <td>True</td>\n",
       "      <td>True</td>\n",
       "      <td>True</td>\n",
       "      <td>True</td>\n",
       "      <td>True</td>\n",
       "      <td>True</td>\n",
       "      <td>True</td>\n",
       "    </tr>\n",
       "    <tr>\n",
       "      <th>8</th>\n",
       "      <td>25 - 45</td>\n",
       "      <td>age_cat</td>\n",
       "      <td>True</td>\n",
       "      <td>True</td>\n",
       "      <td>True</td>\n",
       "      <td>True</td>\n",
       "      <td>True</td>\n",
       "      <td>True</td>\n",
       "      <td>True</td>\n",
       "      <td>True</td>\n",
       "      <td>True</td>\n",
       "      <td>True</td>\n",
       "    </tr>\n",
       "    <tr>\n",
       "      <th>9</th>\n",
       "      <td>Greater than 45</td>\n",
       "      <td>age_cat</td>\n",
       "      <td>False</td>\n",
       "      <td>False</td>\n",
       "      <td>True</td>\n",
       "      <td>False</td>\n",
       "      <td>False</td>\n",
       "      <td>False</td>\n",
       "      <td>False</td>\n",
       "      <td>False</td>\n",
       "      <td>False</td>\n",
       "      <td>False</td>\n",
       "    </tr>\n",
       "    <tr>\n",
       "      <th>10</th>\n",
       "      <td>Less than 25</td>\n",
       "      <td>age_cat</td>\n",
       "      <td>False</td>\n",
       "      <td>False</td>\n",
       "      <td>True</td>\n",
       "      <td>False</td>\n",
       "      <td>False</td>\n",
       "      <td>False</td>\n",
       "      <td>False</td>\n",
       "      <td>False</td>\n",
       "      <td>False</td>\n",
       "      <td>False</td>\n",
       "    </tr>\n",
       "  </tbody>\n",
       "</table>\n",
       "</div>"
      ],
      "text/plain": [
       "         group_value group_variable  Statistical Parity  Impact Parity  \\\n",
       "0   African-American           race               False          False   \n",
       "1              Asian           race               False          False   \n",
       "2          Caucasian           race                True           True   \n",
       "3           Hispanic           race               False           True   \n",
       "4    Native American           race               False          False   \n",
       "5              Other           race               False          False   \n",
       "6             Female            sex               False           True   \n",
       "7               Male            sex                True           True   \n",
       "8            25 - 45        age_cat                True           True   \n",
       "9    Greater than 45        age_cat               False          False   \n",
       "10      Less than 25        age_cat               False          False   \n",
       "\n",
       "    FDR Parity  FPR Parity  FOmR Parity  FNR Parity  TypeI Parity  \\\n",
       "0         True       False         True       False         False   \n",
       "1        False       False        False       False         False   \n",
       "2         True        True         True        True          True   \n",
       "3         True        True         True        True          True   \n",
       "4        False       False        False       False         False   \n",
       "5         True       False         True       False         False   \n",
       "6        False        True        False        True         False   \n",
       "7         True        True         True        True          True   \n",
       "8         True        True         True        True          True   \n",
       "9         True       False        False       False         False   \n",
       "10        True       False        False       False         False   \n",
       "\n",
       "    TypeII Parity  Unsupervised Fairness  Supervised Fairness  \n",
       "0           False                  False                False  \n",
       "1           False                  False                False  \n",
       "2            True                   True                 True  \n",
       "3            True                  False                 True  \n",
       "4           False                  False                False  \n",
       "5           False                  False                False  \n",
       "6           False                  False                False  \n",
       "7            True                   True                 True  \n",
       "8            True                   True                 True  \n",
       "9           False                  False                False  \n",
       "10          False                  False                False  "
      ]
     },
     "execution_count": 24,
     "metadata": {},
     "output_type": "execute_result"
    }
   ],
   "source": [
    "fdf[['group_value', 'group_variable','Statistical Parity',\n",
    "       'Impact Parity', 'FDR Parity', 'FPR Parity', 'FOmR Parity',\n",
    "       'FNR Parity', 'TypeI Parity', 'TypeII Parity', 'Unsupervised Fairness',\n",
    "       'Supervised Fairness']]"
   ]
  },
  {
   "cell_type": "code",
   "execution_count": 44,
   "metadata": {},
   "outputs": [
    {
     "name": "stdout",
     "output_type": "stream",
     "text": [
      "get_group_variable_fairness\n"
     ]
    },
    {
     "data": {
      "text/html": [
       "<div>\n",
       "<style scoped>\n",
       "    .dataframe tbody tr th:only-of-type {\n",
       "        vertical-align: middle;\n",
       "    }\n",
       "\n",
       "    .dataframe tbody tr th {\n",
       "        vertical-align: top;\n",
       "    }\n",
       "\n",
       "    .dataframe thead th {\n",
       "        text-align: right;\n",
       "    }\n",
       "</style>\n",
       "<table border=\"1\" class=\"dataframe\">\n",
       "  <thead>\n",
       "    <tr style=\"text-align: right;\">\n",
       "      <th></th>\n",
       "      <th>model_id</th>\n",
       "      <th>parameter</th>\n",
       "      <th>group_variable</th>\n",
       "      <th>Impact Parity</th>\n",
       "      <th>FDR Parity</th>\n",
       "      <th>FPR Parity</th>\n",
       "      <th>FOmR Parity</th>\n",
       "      <th>FNR Parity</th>\n",
       "      <th>TypeI Parity</th>\n",
       "      <th>TypeII Parity</th>\n",
       "      <th>Unsupervised Fairness</th>\n",
       "      <th>Supervised Fairness</th>\n",
       "    </tr>\n",
       "  </thead>\n",
       "  <tbody>\n",
       "    <tr>\n",
       "      <th>0</th>\n",
       "      <td>1</td>\n",
       "      <td>4743_abs</td>\n",
       "      <td>age_cat</td>\n",
       "      <td>False</td>\n",
       "      <td>True</td>\n",
       "      <td>False</td>\n",
       "      <td>False</td>\n",
       "      <td>False</td>\n",
       "      <td>False</td>\n",
       "      <td>False</td>\n",
       "      <td>False</td>\n",
       "      <td>False</td>\n",
       "    </tr>\n",
       "    <tr>\n",
       "      <th>1</th>\n",
       "      <td>1</td>\n",
       "      <td>4743_abs</td>\n",
       "      <td>race</td>\n",
       "      <td>False</td>\n",
       "      <td>False</td>\n",
       "      <td>False</td>\n",
       "      <td>False</td>\n",
       "      <td>False</td>\n",
       "      <td>False</td>\n",
       "      <td>False</td>\n",
       "      <td>False</td>\n",
       "      <td>False</td>\n",
       "    </tr>\n",
       "    <tr>\n",
       "      <th>2</th>\n",
       "      <td>1</td>\n",
       "      <td>4743_abs</td>\n",
       "      <td>sex</td>\n",
       "      <td>False</td>\n",
       "      <td>True</td>\n",
       "      <td>False</td>\n",
       "      <td>False</td>\n",
       "      <td>False</td>\n",
       "      <td>False</td>\n",
       "      <td>False</td>\n",
       "      <td>False</td>\n",
       "      <td>False</td>\n",
       "    </tr>\n",
       "  </tbody>\n",
       "</table>\n",
       "</div>"
      ],
      "text/plain": [
       "   model_id parameter group_variable  Impact Parity  FDR Parity  FPR Parity  \\\n",
       "0         1  4743_abs        age_cat          False        True       False   \n",
       "1         1  4743_abs           race          False       False       False   \n",
       "2         1  4743_abs            sex          False        True       False   \n",
       "\n",
       "   FOmR Parity  FNR Parity  TypeI Parity  TypeII Parity  \\\n",
       "0        False       False         False          False   \n",
       "1        False       False         False          False   \n",
       "2        False       False         False          False   \n",
       "\n",
       "   Unsupervised Fairness  Supervised Fairness  \n",
       "0                  False                False  \n",
       "1                  False                False  \n",
       "2                  False                False  "
      ]
     },
     "execution_count": 44,
     "metadata": {},
     "output_type": "execute_result"
    }
   ],
   "source": [
    "gvf = f.get_group_variable_fairness(fdf)\n",
    "gvf"
   ]
  },
  {
   "cell_type": "code",
   "execution_count": 45,
   "metadata": {},
   "outputs": [
    {
     "data": {
      "text/plain": [
       "{'Overall Fairness': False,\n",
       " 'Supervised Fairness': False,\n",
       " 'Unsupervised Fairness': False}"
      ]
     },
     "execution_count": 45,
     "metadata": {},
     "output_type": "execute_result"
    }
   ],
   "source": [
    "f.get_overall_fairness(gvf)"
   ]
  },
  {
   "cell_type": "markdown",
   "metadata": {},
   "source": [
    "###  \n",
    "\n",
    "Angwin et al (hearafter ProPublica) argue that the COMPAS risk scores are biased because ... \n",
    "\n",
    "Northpointe contested the findings of the ProPublica report, [arguing](http://go.volarisgroup.com/rs/430-MBX-989/images/ProPublica_Commentary_Final_070616.pdf) that their model is calibrated to  ... \n",
    "In fact, there are contrasting definitions of fairness, which may are at odds. \n",
    "\n",
    "This tension is one of the motivating forces behind Aequitas, an open source tool that automates the calculation of various fairness metrics.  \n",
    "\n",
    "$$ FPR = \\frac{p}{1-p}\\frac{1 - PPV}{PPV}(1 - FNR)$$\n"
   ]
  },
  {
   "cell_type": "markdown",
   "metadata": {},
   "source": [
    "readme that points to:\n",
    "    def\n",
    "    api\n",
    "    "
   ]
  }
 ],
 "metadata": {
  "kernelspec": {
   "display_name": "Python 3",
   "language": "python",
   "name": "python3"
  },
  "language_info": {
   "codemirror_mode": {
    "name": "ipython",
    "version": 3
   },
   "file_extension": ".py",
   "mimetype": "text/x-python",
   "name": "python",
   "nbconvert_exporter": "python",
   "pygments_lexer": "ipython3",
   "version": "3.6.4"
  }
 },
 "nbformat": 4,
 "nbformat_minor": 2
}
